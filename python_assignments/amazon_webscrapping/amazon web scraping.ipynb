{
 "cells": [
  {
   "cell_type": "code",
   "execution_count": 1,
   "id": "b01872b1",
   "metadata": {},
   "outputs": [],
   "source": [
    "import selenium\n",
    "from selenium import webdriver\n",
    "#from selenium.webdriver.support.ui import Select\n",
    "import time"
   ]
  },
  {
   "cell_type": "code",
   "execution_count": 2,
   "id": "d5279b08",
   "metadata": {},
   "outputs": [],
   "source": [
    "import pandas as pd\n",
    "import os"
   ]
  },
  {
   "cell_type": "code",
   "execution_count": 13,
   "id": "e50c12d6",
   "metadata": {},
   "outputs": [
    {
     "name": "stdout",
     "output_type": "stream",
     "text": [
      "[['Canon EOS 1500D 24.1 Digital SLR Camera (Black) with EF S18-55 is II Lens', '8,375', '₹30,999', '₹34,994 Save ₹3,995 (11%)', 'Save extra with No Cost EMI', 'Get it by Saturday, September 4', 'FREE Delivery by Amazon'], ['Canon EOS 200D II 24.1MP Digital SLR Camera + EF-S 18-55mm f4 is STM Lens (Black)', '893', '₹51,499', '₹52,995 Save ₹1,496 (3%)', 'Get it by Saturday, September 4', 'FREE Delivery by Amazon'], ['Canon M50 Mark II 15-45mm f3.5-6.3 is STM', '85', '₹58,990', 'Save extra with No Cost EMI', 'Get it by Monday, September 6', 'FREE Delivery by Amazon'], ['Canon M50 Mark II Mirrorless Camera + SanDisk 128GB Extreme Pro SDXC UHS-I Card - C10, U3, V30, 4K UHD, SD Card', '85', '₹62,289', '₹65,785 Save ₹3,496 (5%)', 'FREE Delivery by Amazon'], ['Nikon D5600 with AF-P 18-55 mm + AF-P 70-300 mm VR Kit', '1,880', '₹66,450', 'FREE Delivery by Amazon', 'In stock on September 9, 2021.'], ['Nikon Z50 Mirroless Camera Body with NIKKOR Z DX 16-50mm f/3.5-6.3 VR & NIKKOR Z DX 50-250mm f/4.5-6.3 VR Lens', '37', '₹88,003', '₹1,05,995 Save ₹17,992 (17%)', 'Get it by Saturday, September 4', 'FREE Delivery by Amazon', 'More Buying Choices', '₹87,990(4 new offers)'], ['Canon EOS 6D Mark II 26.2MP Digital SLR Camera with Canon EF24-105 mm f/4L is II USM Lens and Sigma 150-600 mm f/5-6.3 DG OS HSM Lens', '24', '₹2,55,985', '₹2,76,995 Save ₹21,010 (7%)', 'FREE Delivery by Amazon'], ['Canon PowerShot SX540HS 20.3MP Digital Camera with 50x Optical Zoom (Black)', '522', '₹23,690', 'Get it by Monday, September 13', '₹70 shipping', 'Only 1 left in stock.'], ['Sony Cybershot DSC-HX400V 20.4MP Digital Camera (Black) with Free Bag + SanDisk 128GB Ultra SDXC UHS-I Memory Card - 100MB/s, C10, U1, Full HD, SD Card', '542', '₹30,678', '₹34,090 Save ₹3,412 (10%)', 'FREE Delivery by Amazon'], ['Sony Alpha ILCE 6000L 24.3 MP Mirrorless Digital SLR Camera with 16-50 mm (APS-C Sensor, Fast Auto Focus, Eye AF, Light Weight) - Black', '632', '₹47,990', '₹51,990 Save ₹4,000 (8%)', 'Get it Monday, September 13 - Tuesday, September 14', '₹70 shipping', 'More Buying Choices', '₹45,990(2 new offers)'], ['Nikon D7500 20.9MP Digital SLR Camera (Black) with AF-S DX NIKKOR 18-140mm f/3.5-5.6G ED VR Lens', '259', '₹85,989', '₹94,950 Save ₹8,961 (9%)', 'Get it by Saturday, September 4', 'FREE Delivery by Amazon'], ['Canon EOS 200D II 24.1MP Digital SLR Camera + EF-S 18-55mm f4 is STM Lens (Black) + Arctic Fox Sling Shutter Topography Camera Bag', '893', '₹52,648', '₹54,494 Save ₹1,846 (3%)', 'FREE Delivery by Amazon'], ['Canon EOS M6 Mark II 32.5MP + EF-M 15-45mm f/3.5-6.3 is STM Lens + SanDisk 128GB Extreme Pro SDXC UHS-I Card - C10, U3, V30, 4K UHD, SD Card', '18', '₹79,298', '₹90,785 Save ₹11,487 (12%)', 'FREE Delivery by Amazon'], ['Nikon D3500 with AF-P DX Nikkor 18-55mm f/3.5-5.6G VR Lens Digital SLR Camera', '3,321'], ['Canon EOS 90D Digital SLR Camera with 18-135 is USM Lens', '59', '₹1,26,990', '₹1,34,990 Save ₹8,000 (6%)', 'FREE Delivery by Amazon', 'Only 1 left in stock.'], ['Canon EOS 1500D 24.1 Digital SLR Camera (Black) with EF S18-55 is II Lens, 16GB Card and Carry Case + Digitek DTR 550LW Lightweight Tripod + Kodak 58mm Filter', '8,375', '₹33,077', '₹38,289 Save ₹5,212 (13%)', 'FREE Delivery by Amazon', 'In stock on September 30, 2021.'], ['Canon EOS 3000D 18MP Digital SLR Camera (Black) with 18-55mm is II Lens, 16GB Card and Carry Case', '99', '₹29,000', '₹29,495 Save ₹495 (2%)', 'Get it by Monday, September 6', 'FREE Delivery by Amazon'], ['Canon EOS 1500D 24.1MP Digital SLR Camera (Black) with 18-55 and 55-250mm is II Lens', '8,375'], ['Canon EOS 80D 24.2MP Digital SLR Camera (Black) + EF-S 18-55mm STM Lens Kit + Memory card', '1,215', '₹83,990', '₹86,495 Save ₹2,505 (3%)', 'FREE Delivery by Amazon', 'Only 1 left in stock.'], ['(Renewed) Canon Digital Camera EOS R5 Body', '₹2,77,092', '₹3,39,995 Save ₹62,903 (19%)', 'Get it by Monday, September 6', 'FREE Delivery by Amazon', 'Only 1 left in stock.'], ['Nikon Digital Camera Z 5 Kit with NIKKOR Z 24-200mm f/4-6.3 Lens', '2', '₹1,44,690', '₹1,86,990 Save ₹42,300 (23%)', 'Get it Monday, September 13 - Tuesday, September 14', '₹70 shipping'], ['Canon Digital Camera EOS R6 Body', '9', '₹2,09,990', '₹2,15,995 Save ₹6,005 (3%)', 'Save extra with No Cost EMI', 'Get it by Monday, September 6', 'FREE Delivery by Amazon', 'Only 2 left in stock.'], ['Nikon D750 Digital SLR Camera + 24-120mm 4G VR Kit', '61', '₹1,55,250', '₹1,64,950 Save ₹9,700 (6%)', 'Get it by Monday, September 6', 'FREE Delivery by Amazon', 'Only 1 left in stock.'], ['Nikon Z50 Mirrorless Camera Body with Z DX 16-50mm f/3.5-6.3 VR Lens', '20', '₹69,990', '₹85,995 Save ₹16,005 (19%)', 'Get it by Saturday, September 4', 'FREE Delivery by Amazon']]\n",
      "\n"
     ]
    }
   ],
   "source": [
    "driverPath=r'E:\\Webdriver\\chromedriver.exe'\n",
    "driver=webdriver.Chrome(executable_path=driverPath)\n",
    "driver.get(r'https://www.amazon.in/')\n",
    "driver.maximize_window()\n",
    "driver.find_element_by_xpath(\"//header/div[@id='navbar']/div[@id='nav-main']/div[1]/a[1]/span[1]\").click()\n",
    "time.sleep(1)\n",
    "driver.find_element_by_xpath(\"//div[contains(text(),'TV, Appliances, Electronics')]\").click()\n",
    "driver.find_element_by_xpath(\"//a[contains(text(),'DSLR Cameras')]\").click()\n",
    "time.sleep(2)\n",
    "page=driver.find_element_by_xpath(\"//span[contains(text(),'See all results')]\")\n",
    "page.click()\n",
    "lst1=list()\n",
    "time.sleep(1)\n",
    "for j in range(1,25):\n",
    "    price1=driver.find_elements_by_xpath(\"//body/div[@id='a-page']/div[@id='search']/div[1]/div[1]/div[1]/span[3]/div[2]/div[{}]/div[1]/span[1]/div[1]/div[1]/div[2]\".format(j))\n",
    "    for r in price1:\n",
    "        lst1.append(r.text.split(\"\\n\"))\n",
    "print(lst1)\n",
    "print(\"\")\n",
    "#for i in len(lst1[])\n",
    "writer=pd.ExcelWriter(\"amazon.xlsx\",engine=\"xlsxwriter\")\n",
    "df=pd.DataFrame(lst1,columns=['Product Name','2','New Price','Old Price','5','6','7','8'])\n",
    "df.drop(axis=\"columns\",columns=['2','5','6','7','8'],inplace=True)\n",
    "df['Old Price'] = df['Old Price'].str.split(\"Save\",1).str[0]\n",
    "df.to_excel(writer,sheet_name='amazon', index=False)\n",
    "writer.save()\n",
    "time.sleep(1)\n",
    "#driver.find_element_by_xpath(\"//body/div[@id='a-page']/div[@id='search']/div[1]/div[1]/div[1]/span[3]/div[2]/div[25]/span[1]/div[1]/span[1]/a[{}]\".format(i)).click()\n",
    "driver.close()"
   ]
  },
  {
   "cell_type": "code",
   "execution_count": null,
   "id": "9f9b6825",
   "metadata": {},
   "outputs": [],
   "source": []
  }
 ],
 "metadata": {
  "kernelspec": {
   "display_name": "Python 3 (ipykernel)",
   "language": "python",
   "name": "python3"
  },
  "language_info": {
   "codemirror_mode": {
    "name": "ipython",
    "version": 3
   },
   "file_extension": ".py",
   "mimetype": "text/x-python",
   "name": "python",
   "nbconvert_exporter": "python",
   "pygments_lexer": "ipython3",
   "version": "3.9.6"
  }
 },
 "nbformat": 4,
 "nbformat_minor": 5
}
